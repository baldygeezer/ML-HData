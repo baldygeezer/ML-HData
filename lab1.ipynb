{
 "nbformat": 4,
 "nbformat_minor": 0,
 "metadata": {
  "colab": {
   "name": "wk02_basic_of_machine_learning_project.ipynb",
   "version": "0.3.2",
   "provenance": [],
   "collapsed_sections": []
  },
  "kernelspec": {
   "display_name": "Python 3",
   "language": "python",
   "name": "python3"
  },
  "pycharm": {
   "stem_cell": {
    "cell_type": "raw",
    "source": [],
    "metadata": {
     "collapsed": false
    }
   }
  }
 },
 "cells": [
  {
   "metadata": {
    "id": "dOguF95OyAOs",
    "colab_type": "text"
   },
   "cell_type": "markdown",
   "source": [
    "# COMP3222/6246 Machine Learning Technologies (2018/19)\n",
    "# Week 2 – Basics of Machine Learning project\n",
    "\n",
    "In this week, we will have an overview of how a practical Machine Learning project works. We aim to familiarise you with the general procedure of doing Machine Learning, while encouraging you to develop your critical thinking by asking you some questions now and then. \n",
    "\n",
    "In general, a Machine Learning project is not different from a software project, where you might want to go back and forth and tweak something, or roll out the first prototype and improve on it incrementally. Answering the questions will help you understand more, and allow you to come up with an idea for improving the Machine Learning prototype we introduced here.\n",
    "\n",
    "Note that you will not learn by simply executing this notebook without playing with it :)"
   ]
  },
  {
   "metadata": {
    "id": "_iIy8cEHyAOs",
    "colab_type": "text"
   },
   "cell_type": "markdown",
   "source": [
    "## Defining the problem\n",
    "\n",
    "Say, we are given a task to **predict a house price in California**. Depending on a dataset, this can be either a *supervised learning*, *reinforcement learning*, and so on. Clearly, we need to inspect the dataset first."
   ]
  },
  {
   "metadata": {
    "id": "HUGoY8cDyAOt",
    "colab_type": "text"
   },
   "cell_type": "markdown",
   "source": [
    "## Getting the dataset\n",
    "\n",
    "We will use 1990 California consus data which is provided by Aurélien Géron on his Github: https://raw.githubusercontent.com/ageron/handson-ml/master/datasets/housing/housing.tgz. The description of this dataset is provided on https://github.com/ageron/handson-ml/blob/master/datasets/housing/README.md and http://www.dcc.fc.up.pt/~ltorgo/Regression/cal_housing.html."
   ]
  },
  {
   "metadata": {
    "id": "RCSZTHAPyAOt",
    "colab_type": "code",
    "colab": {
     "base_uri": "https://localhost:8080/",
     "height": 35
    },
    "outputId": "354b1469-7dd1-456b-a7da-30b2dd7b773d",
    "executionInfo": {
     "status": "ok",
     "timestamp": 1537792094466,
     "user_tz": -60,
     "elapsed": 461,
     "user": {
      "displayName": "Taha Doğan Güneş",
      "photoUrl": "",
      "userId": "11032505847365814490"
     }
    },
    "pycharm": {
     "is_executing": false
    }
   },
   "cell_type": "code",
   "source": [
    "import urllib # This is URL handling module required for downloading files from the Internet\n",
    "\n",
    "urllib.request.urlretrieve(\"https://raw.githubusercontent.com/ageron/handson-ml/master/datasets/housing/housing.tgz\", \"housing.tgz\")"
   ],
   "execution_count": 8,
   "outputs": [
    {
     "data": {
      "text/plain": "('housing.tgz', <http.client.HTTPMessage at 0x11242c5c0>)"
     },
     "metadata": {},
     "output_type": "execute_result",
     "execution_count": 8
    }
   ]
  },
  {
   "metadata": {
    "id": "J_4K5n18yAOy",
    "colab_type": "code",
    "colab": {}
   },
   "cell_type": "code",
   "source": [
    "import tarfile # This is used for decompressing .tgz file\n",
    "\n",
    "housing_tgz = tarfile.open(\"housing.tgz\")\n",
    "housing_tgz.extractall()\n",
    "housing_tgz.close()"
   ],
   "execution_count": 0,
   "outputs": []
  },
  {
   "metadata": {
    "id": "xwXimItuyAO0",
    "colab_type": "text"
   },
   "cell_type": "markdown",
   "source": [
    "The *housing.tgz* file should be decompressed and saved on the current working directory as *housing.csv*."
   ]
  },
  {
   "metadata": {
    "id": "J5ji2f9XyAO1",
    "colab_type": "text"
   },
   "cell_type": "markdown",
   "source": [
    "## Exploring the dataset\n",
    "\n",
    "Now, we should familiarise ourselves with the dataset. For example, you should know what kind of attributes (*numerical* or *categorical*?), how many datapoints, how many missing values, is it raw data or transformed data, and so forth. \n",
    "\n",
    "Note that, usually, a dataset that you will acquire in the real world cannot be used right away. You will need to perform *data cleaning* beforehand."
   ]
  },
  {
   "metadata": {
    "id": "1mfOjZZSyAO1",
    "colab_type": "code",
    "colab": {
     "base_uri": "https://localhost:8080/",
     "height": 226
    },
    "outputId": "b18f93fe-14c9-43c1-b396-2bfdc266fb60",
    "executionInfo": {
     "status": "ok",
     "timestamp": 1537792095860,
     "user_tz": -60,
     "elapsed": 703,
     "user": {
      "displayName": "Taha Doğan Güneş",
      "photoUrl": "",
      "userId": "11032505847365814490"
     }
    },
    "pycharm": {
     "is_executing": false
    }
   },
   "cell_type": "code",
   "source": [
    "import pandas # This is a library that is mainly used for data manipulation and some basic analyses\n",
    "\n",
    "housing = pandas.read_csv(\"housing.csv\")\n",
    "housing.head()"
   ],
   "execution_count": 9,
   "outputs": [
    {
     "data": {
      "text/plain": "   longitude  latitude  housing_median_age  total_rooms  total_bedrooms  \\\n0    -122.23     37.88                41.0        880.0           129.0   \n1    -122.22     37.86                21.0       7099.0          1106.0   \n2    -122.24     37.85                52.0       1467.0           190.0   \n3    -122.25     37.85                52.0       1274.0           235.0   \n4    -122.25     37.85                52.0       1627.0           280.0   \n\n   population  households  median_income  median_house_value ocean_proximity  \n0       322.0       126.0         8.3252            452600.0        NEAR BAY  \n1      2401.0      1138.0         8.3014            358500.0        NEAR BAY  \n2       496.0       177.0         7.2574            352100.0        NEAR BAY  \n3       558.0       219.0         5.6431            341300.0        NEAR BAY  \n4       565.0       259.0         3.8462            342200.0        NEAR BAY  ",
      "text/html": "<div>\n<style scoped>\n    .dataframe tbody tr th:only-of-type {\n        vertical-align: middle;\n    }\n\n    .dataframe tbody tr th {\n        vertical-align: top;\n    }\n\n    .dataframe thead th {\n        text-align: right;\n    }\n</style>\n<table border=\"1\" class=\"dataframe\">\n  <thead>\n    <tr style=\"text-align: right;\">\n      <th></th>\n      <th>longitude</th>\n      <th>latitude</th>\n      <th>housing_median_age</th>\n      <th>total_rooms</th>\n      <th>total_bedrooms</th>\n      <th>population</th>\n      <th>households</th>\n      <th>median_income</th>\n      <th>median_house_value</th>\n      <th>ocean_proximity</th>\n    </tr>\n  </thead>\n  <tbody>\n    <tr>\n      <th>0</th>\n      <td>-122.23</td>\n      <td>37.88</td>\n      <td>41.0</td>\n      <td>880.0</td>\n      <td>129.0</td>\n      <td>322.0</td>\n      <td>126.0</td>\n      <td>8.3252</td>\n      <td>452600.0</td>\n      <td>NEAR BAY</td>\n    </tr>\n    <tr>\n      <th>1</th>\n      <td>-122.22</td>\n      <td>37.86</td>\n      <td>21.0</td>\n      <td>7099.0</td>\n      <td>1106.0</td>\n      <td>2401.0</td>\n      <td>1138.0</td>\n      <td>8.3014</td>\n      <td>358500.0</td>\n      <td>NEAR BAY</td>\n    </tr>\n    <tr>\n      <th>2</th>\n      <td>-122.24</td>\n      <td>37.85</td>\n      <td>52.0</td>\n      <td>1467.0</td>\n      <td>190.0</td>\n      <td>496.0</td>\n      <td>177.0</td>\n      <td>7.2574</td>\n      <td>352100.0</td>\n      <td>NEAR BAY</td>\n    </tr>\n    <tr>\n      <th>3</th>\n      <td>-122.25</td>\n      <td>37.85</td>\n      <td>52.0</td>\n      <td>1274.0</td>\n      <td>235.0</td>\n      <td>558.0</td>\n      <td>219.0</td>\n      <td>5.6431</td>\n      <td>341300.0</td>\n      <td>NEAR BAY</td>\n    </tr>\n    <tr>\n      <th>4</th>\n      <td>-122.25</td>\n      <td>37.85</td>\n      <td>52.0</td>\n      <td>1627.0</td>\n      <td>280.0</td>\n      <td>565.0</td>\n      <td>259.0</td>\n      <td>3.8462</td>\n      <td>342200.0</td>\n      <td>NEAR BAY</td>\n    </tr>\n  </tbody>\n</table>\n</div>"
     },
     "metadata": {},
     "output_type": "execute_result",
     "execution_count": 9
    }
   ]
  },
  {
   "metadata": {
    "id": "NHLSJWGoyAO4",
    "colab_type": "code",
    "colab": {
     "base_uri": "https://localhost:8080/",
     "height": 293
    },
    "outputId": "8c9580d2-ecdf-481c-95be-feb984a2fd9d",
    "executionInfo": {
     "status": "ok",
     "timestamp": 1537792096471,
     "user_tz": -60,
     "elapsed": 516,
     "user": {
      "displayName": "Taha Doğan Güneş",
      "photoUrl": "",
      "userId": "11032505847365814490"
     }
    },
    "pycharm": {
     "is_executing": false
    }
   },
   "cell_type": "code",
   "source": [
    "housing.info()"
   ],
   "execution_count": 10,
   "outputs": [
    {
     "name": "stdout",
     "text": [
      "<class 'pandas.core.frame.DataFrame'>\nRangeIndex: 20640 entries, 0 to 20639\nData columns (total 10 columns):\nlongitude             20640 non-null float64\nlatitude              20640 non-null float64\nhousing_median_age    20640 non-null float64\ntotal_rooms           20640 non-null float64\ntotal_bedrooms        20433 non-null float64\npopulation            20640 non-null float64\nhouseholds            20640 non-null float64\nmedian_income         20640 non-null float64\nmedian_house_value    20640 non-null float64\nocean_proximity       20640 non-null object\ndtypes: float64(9), object(1)\nmemory usage: 1.6+ MB\n"
     ],
     "output_type": "stream"
    }
   ]
  },
  {
   "metadata": {
    "id": "czt7hWfEyAO7",
    "colab_type": "code",
    "colab": {
     "base_uri": "https://localhost:8080/",
     "height": 320
    },
    "outputId": "4a0863f5-1dbf-49b5-fac5-bd5acf7da56a",
    "executionInfo": {
     "status": "ok",
     "timestamp": 1537792097117,
     "user_tz": -60,
     "elapsed": 551,
     "user": {
      "displayName": "Taha Doğan Güneş",
      "photoUrl": "",
      "userId": "11032505847365814490"
     }
    },
    "pycharm": {
     "is_executing": false
    }
   },
   "cell_type": "code",
   "source": [
    "housing.describe()"
   ],
   "execution_count": 11,
   "outputs": [
    {
     "data": {
      "text/plain": "          longitude      latitude  housing_median_age   total_rooms  \\\ncount  20640.000000  20640.000000        20640.000000  20640.000000   \nmean    -119.569704     35.631861           28.639486   2635.763081   \nstd        2.003532      2.135952           12.585558   2181.615252   \nmin     -124.350000     32.540000            1.000000      2.000000   \n25%     -121.800000     33.930000           18.000000   1447.750000   \n50%     -118.490000     34.260000           29.000000   2127.000000   \n75%     -118.010000     37.710000           37.000000   3148.000000   \nmax     -114.310000     41.950000           52.000000  39320.000000   \n\n       total_bedrooms    population    households  median_income  \\\ncount    20433.000000  20640.000000  20640.000000   20640.000000   \nmean       537.870553   1425.476744    499.539680       3.870671   \nstd        421.385070   1132.462122    382.329753       1.899822   \nmin          1.000000      3.000000      1.000000       0.499900   \n25%        296.000000    787.000000    280.000000       2.563400   \n50%        435.000000   1166.000000    409.000000       3.534800   \n75%        647.000000   1725.000000    605.000000       4.743250   \nmax       6445.000000  35682.000000   6082.000000      15.000100   \n\n       median_house_value  \ncount        20640.000000  \nmean        206855.816909  \nstd         115395.615874  \nmin          14999.000000  \n25%         119600.000000  \n50%         179700.000000  \n75%         264725.000000  \nmax         500001.000000  ",
      "text/html": "<div>\n<style scoped>\n    .dataframe tbody tr th:only-of-type {\n        vertical-align: middle;\n    }\n\n    .dataframe tbody tr th {\n        vertical-align: top;\n    }\n\n    .dataframe thead th {\n        text-align: right;\n    }\n</style>\n<table border=\"1\" class=\"dataframe\">\n  <thead>\n    <tr style=\"text-align: right;\">\n      <th></th>\n      <th>longitude</th>\n      <th>latitude</th>\n      <th>housing_median_age</th>\n      <th>total_rooms</th>\n      <th>total_bedrooms</th>\n      <th>population</th>\n      <th>households</th>\n      <th>median_income</th>\n      <th>median_house_value</th>\n    </tr>\n  </thead>\n  <tbody>\n    <tr>\n      <th>count</th>\n      <td>20640.000000</td>\n      <td>20640.000000</td>\n      <td>20640.000000</td>\n      <td>20640.000000</td>\n      <td>20433.000000</td>\n      <td>20640.000000</td>\n      <td>20640.000000</td>\n      <td>20640.000000</td>\n      <td>20640.000000</td>\n    </tr>\n    <tr>\n      <th>mean</th>\n      <td>-119.569704</td>\n      <td>35.631861</td>\n      <td>28.639486</td>\n      <td>2635.763081</td>\n      <td>537.870553</td>\n      <td>1425.476744</td>\n      <td>499.539680</td>\n      <td>3.870671</td>\n      <td>206855.816909</td>\n    </tr>\n    <tr>\n      <th>std</th>\n      <td>2.003532</td>\n      <td>2.135952</td>\n      <td>12.585558</td>\n      <td>2181.615252</td>\n      <td>421.385070</td>\n      <td>1132.462122</td>\n      <td>382.329753</td>\n      <td>1.899822</td>\n      <td>115395.615874</td>\n    </tr>\n    <tr>\n      <th>min</th>\n      <td>-124.350000</td>\n      <td>32.540000</td>\n      <td>1.000000</td>\n      <td>2.000000</td>\n      <td>1.000000</td>\n      <td>3.000000</td>\n      <td>1.000000</td>\n      <td>0.499900</td>\n      <td>14999.000000</td>\n    </tr>\n    <tr>\n      <th>25%</th>\n      <td>-121.800000</td>\n      <td>33.930000</td>\n      <td>18.000000</td>\n      <td>1447.750000</td>\n      <td>296.000000</td>\n      <td>787.000000</td>\n      <td>280.000000</td>\n      <td>2.563400</td>\n      <td>119600.000000</td>\n    </tr>\n    <tr>\n      <th>50%</th>\n      <td>-118.490000</td>\n      <td>34.260000</td>\n      <td>29.000000</td>\n      <td>2127.000000</td>\n      <td>435.000000</td>\n      <td>1166.000000</td>\n      <td>409.000000</td>\n      <td>3.534800</td>\n      <td>179700.000000</td>\n    </tr>\n    <tr>\n      <th>75%</th>\n      <td>-118.010000</td>\n      <td>37.710000</td>\n      <td>37.000000</td>\n      <td>3148.000000</td>\n      <td>647.000000</td>\n      <td>1725.000000</td>\n      <td>605.000000</td>\n      <td>4.743250</td>\n      <td>264725.000000</td>\n    </tr>\n    <tr>\n      <th>max</th>\n      <td>-114.310000</td>\n      <td>41.950000</td>\n      <td>52.000000</td>\n      <td>39320.000000</td>\n      <td>6445.000000</td>\n      <td>35682.000000</td>\n      <td>6082.000000</td>\n      <td>15.000100</td>\n      <td>500001.000000</td>\n    </tr>\n  </tbody>\n</table>\n</div>"
     },
     "metadata": {},
     "output_type": "execute_result",
     "execution_count": 11
    }
   ]
  },
  {
   "metadata": {
    "id": "XLubikX2yAO9",
    "colab_type": "code",
    "colab": {
     "base_uri": "https://localhost:8080/",
     "height": 127
    },
    "outputId": "012d0531-7d22-4a01-e5c8-06119f39d986",
    "executionInfo": {
     "status": "ok",
     "timestamp": 1537792097846,
     "user_tz": -60,
     "elapsed": 553,
     "user": {
      "displayName": "Taha Doğan Güneş",
      "photoUrl": "",
      "userId": "11032505847365814490"
     }
    },
    "pycharm": {
     "is_executing": false
    }
   },
   "cell_type": "code",
   "source": [
    "housing[\"ocean_proximity\"].value_counts()"
   ],
   "execution_count": 12,
   "outputs": [
    {
     "data": {
      "text/plain": "<1H OCEAN     9136\nINLAND        6551\nNEAR OCEAN    2658\nNEAR BAY      2290\nISLAND           5\nName: ocean_proximity, dtype: int64"
     },
     "metadata": {},
     "output_type": "execute_result",
     "execution_count": 12
    }
   ]
  },
  {
   "metadata": {
    "id": "65JMniM4yAPA",
    "colab_type": "code",
    "colab": {
     "base_uri": "https://localhost:8080/",
     "height": 898
    },
    "outputId": "948a6456-19d8-4054-ff19-46ace8bae6e2",
    "executionInfo": {
     "status": "ok",
     "timestamp": 1537792100478,
     "user_tz": -60,
     "elapsed": 2478,
     "user": {
      "displayName": "Taha Doğan Güneş",
      "photoUrl": "",
      "userId": "11032505847365814490"
     }
    },
    "pycharm": {
     "is_executing": false
    }
   },
   "cell_type": "code",
   "source": [
    "%matplotlib inline\n",
    "import matplotlib.pyplot as plt # This is for making a plot similar to one in MATLAB\n",
    "housing.hist(bins=50, figsize=(20,15)) # Do you know why we choose 50 bins? Try playing with the number of bins and observe the difference.\n",
    "plt.show()"
   ],
   "execution_count": 13,
   "outputs": [
    {
     "data": {
      "text/plain": "<Figure size 1440x1080 with 9 Axes>",
      "image/png": "[encoded data removed]"
     },
     "metadata": {
      "needs_background": "light"
     },
     "output_type": "display_data"
    }
   ]
  },
  {
   "metadata": {
    "id": "X5F4OdFYyAPC",
    "colab_type": "text"
   },
   "cell_type": "markdown",
   "source": [
    "What can we say about our dataset after this quick glance over it? What is the name of the variable that we need to predict with our Machine Learning technique? How many attributes or features do we have? Which attributes are numerical and which are not? Are there any missing values in the dataset? Is there any anomaly or outlier in the distribution of the attributes (shown in histogram)?\n",
    "\n",
    "The more we know about our dataset, the less problems we will have later."
   ]
  },
  {
   "metadata": {
    "id": "UETCxzhPyAPD",
    "colab_type": "text"
   },
   "cell_type": "markdown",
   "source": [
    "## Defining the problem and a performance measure\n",
    "\n",
    "After we have roughly explored the dataset, we now know that we need to solve a supervised-learning multivariate regression task, where we will use a Machine Learning algorithm **to predict *median_house_value* based on other attributes**. With this knowledge, you will be able to select a number of appropriate algorithms later.\n",
    "\n",
    "Moreover, we can pick a performance measure of our Machine Learning algorithm beforehand. There are a number of performance measures for regression task, but we will just use the Root Mean Square Error (RMSE) for now.\n",
    "\n",
    "$$\\text{RMSE} \\left( \\mathbf{Y} , \\mathbf{\\hat{Y}} \\right) = \\sqrt{\\frac{1}{n} \\sum_{i=1}^n \\left( y_i - \\hat{y_i} \\right)^2 } $$\n",
    "\n",
    "where $\\mathbf{Y}$ and $\\mathbf{\\hat{Y}}$ are an $n$-sized vector of true values and an $n$-sized vector of predicted values which comprises of $y_i$ and $\\hat{y_i}$ respectively for each datapoint $i$. In other words, RMSE is computed from a square root of an average squared error.\n",
    "\n",
    "Another well-known performance measure is the Mean Absolute Error (MAE), which is computed by taking an average of an absolute value of the error.\n",
    "\n",
    "$$\\text{MAE} \\left( \\mathbf{Y} , \\mathbf{\\hat{Y}} \\right) = \\frac{1}{n} \\sum_{i=1}^n | y_i - \\hat{y_i} |^2 $$\n",
    "\n",
    "Both of them are good measures of how well our Machine Learning algorithm will perform. The lower the value is, the better our algorithm performs. However, different measures will pick up different aspects in the error that our Machine Learning produced. Now, what is the difference between the RMSE and the MAE in this regard? Which one would be appropriate for this house price prediction task? Why?"
   ]
  },
  {
   "metadata": {
    "id": "4U4r6lDKyAPE",
    "colab_type": "text"
   },
   "cell_type": "markdown",
   "source": [
    "## Data cleaning: missing values and capped values\n",
    "\n",
    "By exploring our dataset, we are aware of at least 2 problems: namely, missing values and capped values. In particular, the attribute total_bedrooms has a number of values smaller than the other attributes, and there is a peak in the distribution of the attributes housing_median_age and median_house_value, which signifies a limit on the attribute's maximum value. These might be caused by how the data was collected; e.g. the survey's choice 'Perfer not to say', '>= 52', or '>= 500,001'.\n",
    "\n",
    "There are a number of ways to solve these issues: we can either (a) discard the attributes, (b) remove the datapoint that have these issues, or (c) replace the attributes with appropriate values. Different methods affect our Machine Learning algorithm in different ways. For examples, our Machine Learning algorithm might not work well if the discarded attributes are the key attributes for accurately predicting house prices. If we discard too many datapoints, our algorithm might not be able to properly learn. Similarly, filling/replacing attributes with incorrect values will also affect our prediction's accuracy.\n",
    "\n",
    "For the sake of simplicity, let's try removing those corrupted datapoints and see how well our Machine Learning algorithm can do."
   ]
  },
  {
   "metadata": {
    "id": "0Q6tCiuByAPE",
    "colab_type": "code",
    "colab": {
     "base_uri": "https://localhost:8080/",
     "height": 226
    },
    "outputId": "76a117c0-24c0-4b29-db39-a22b05850524",
    "executionInfo": {
     "status": "ok",
     "timestamp": 1537792101100,
     "user_tz": -60,
     "elapsed": 559,
     "user": {
      "displayName": "Taha Doğan Güneş",
      "photoUrl": "",
      "userId": "11032505847365814490"
     }
    },
    "pycharm": {
     "is_executing": false
    }
   },
   "cell_type": "code",
   "source": [
    "fltr_idx = housing['total_bedrooms'].notna() & (housing['housing_median_age'] < 52) & (housing['median_house_value'] < 500001) # retrieve boolean array where each value corresponds to datapoint we want\n",
    "fltr_housing = housing[fltr_idx].reset_index(drop=True) # select datapoints then reset its index\n",
    "fltr_housing.head()"
   ],
   "execution_count": 14,
   "outputs": [
    {
     "data": {
      "text/plain": "   longitude  latitude  housing_median_age  total_rooms  total_bedrooms  \\\n0    -122.23     37.88                41.0        880.0           129.0   \n1    -122.22     37.86                21.0       7099.0          1106.0   \n2    -122.26     37.84                42.0       2555.0           665.0   \n3    -122.26     37.85                50.0       1120.0           283.0   \n4    -122.26     37.84                50.0       2239.0           455.0   \n\n   population  households  median_income  median_house_value ocean_proximity  \n0       322.0       126.0         8.3252            452600.0        NEAR BAY  \n1      2401.0      1138.0         8.3014            358500.0        NEAR BAY  \n2      1206.0       595.0         2.0804            226700.0        NEAR BAY  \n3       697.0       264.0         2.1250            140000.0        NEAR BAY  \n4       990.0       419.0         1.9911            158700.0        NEAR BAY  ",
      "text/html": "<div>\n<style scoped>\n    .dataframe tbody tr th:only-of-type {\n        vertical-align: middle;\n    }\n\n    .dataframe tbody tr th {\n        vertical-align: top;\n    }\n\n    .dataframe thead th {\n        text-align: right;\n    }\n</style>\n<table border=\"1\" class=\"dataframe\">\n  <thead>\n    <tr style=\"text-align: right;\">\n      <th></th>\n      <th>longitude</th>\n      <th>latitude</th>\n      <th>housing_median_age</th>\n      <th>total_rooms</th>\n      <th>total_bedrooms</th>\n      <th>population</th>\n      <th>households</th>\n      <th>median_income</th>\n      <th>median_house_value</th>\n      <th>ocean_proximity</th>\n    </tr>\n  </thead>\n  <tbody>\n    <tr>\n      <th>0</th>\n      <td>-122.23</td>\n      <td>37.88</td>\n      <td>41.0</td>\n      <td>880.0</td>\n      <td>129.0</td>\n      <td>322.0</td>\n      <td>126.0</td>\n      <td>8.3252</td>\n      <td>452600.0</td>\n      <td>NEAR BAY</td>\n    </tr>\n    <tr>\n      <th>1</th>\n      <td>-122.22</td>\n      <td>37.86</td>\n      <td>21.0</td>\n      <td>7099.0</td>\n      <td>1106.0</td>\n      <td>2401.0</td>\n      <td>1138.0</td>\n      <td>8.3014</td>\n      <td>358500.0</td>\n      <td>NEAR BAY</td>\n    </tr>\n    <tr>\n      <th>2</th>\n      <td>-122.26</td>\n      <td>37.84</td>\n      <td>42.0</td>\n      <td>2555.0</td>\n      <td>665.0</td>\n      <td>1206.0</td>\n      <td>595.0</td>\n      <td>2.0804</td>\n      <td>226700.0</td>\n      <td>NEAR BAY</td>\n    </tr>\n    <tr>\n      <th>3</th>\n      <td>-122.26</td>\n      <td>37.85</td>\n      <td>50.0</td>\n      <td>1120.0</td>\n      <td>283.0</td>\n      <td>697.0</td>\n      <td>264.0</td>\n      <td>2.1250</td>\n      <td>140000.0</td>\n      <td>NEAR BAY</td>\n    </tr>\n    <tr>\n      <th>4</th>\n      <td>-122.26</td>\n      <td>37.84</td>\n      <td>50.0</td>\n      <td>2239.0</td>\n      <td>455.0</td>\n      <td>990.0</td>\n      <td>419.0</td>\n      <td>1.9911</td>\n      <td>158700.0</td>\n      <td>NEAR BAY</td>\n    </tr>\n  </tbody>\n</table>\n</div>"
     },
     "metadata": {},
     "output_type": "execute_result",
     "execution_count": 14
    }
   ]
  },
  {
   "metadata": {
    "id": "MMTzSZk-yAPH",
    "colab_type": "code",
    "colab": {
     "base_uri": "https://localhost:8080/",
     "height": 293
    },
    "outputId": "59a42674-f2c1-4e2d-b8fc-f42dce287359",
    "executionInfo": {
     "status": "ok",
     "timestamp": 1537792101718,
     "user_tz": -60,
     "elapsed": 513,
     "user": {
      "displayName": "Taha Doğan Güneş",
      "photoUrl": "",
      "userId": "11032505847365814490"
     }
    }
   },
   "cell_type": "code",
   "source": [
    "fltr_housing.info()"
   ],
   "execution_count": 12,
   "outputs": [
    {
     "output_type": "stream",
     "text": [
      "<class 'pandas.core.frame.DataFrame'>\n",
      "RangeIndex: 18379 entries, 0 to 18378\n",
      "Data columns (total 10 columns):\n",
      "longitude             18379 non-null float64\n",
      "latitude              18379 non-null float64\n",
      "housing_median_age    18379 non-null float64\n",
      "total_rooms           18379 non-null float64\n",
      "total_bedrooms        18379 non-null float64\n",
      "population            18379 non-null float64\n",
      "households            18379 non-null float64\n",
      "median_income         18379 non-null float64\n",
      "median_house_value    18379 non-null float64\n",
      "ocean_proximity       18379 non-null object\n",
      "dtypes: float64(9), object(1)\n",
      "memory usage: 1.4+ MB\n"
     ],
     "name": "stdout"
    }
   ]
  },
  {
   "metadata": {
    "id": "mtFixD4_yAPJ",
    "colab_type": "code",
    "colab": {
     "base_uri": "https://localhost:8080/",
     "height": 320
    },
    "outputId": "8737a45a-b840-45e1-8034-8132483a48b7",
    "executionInfo": {
     "status": "ok",
     "timestamp": 1537792102484,
     "user_tz": -60,
     "elapsed": 664,
     "user": {
      "displayName": "Taha Doğan Güneş",
      "photoUrl": "",
      "userId": "11032505847365814490"
     }
    }
   },
   "cell_type": "code",
   "source": [
    "fltr_housing.describe()"
   ],
   "execution_count": 13,
   "outputs": [
    {
     "output_type": "execute_result",
     "data": {
      "text/html": [
       "<div>\n",
       "<style scoped>\n",
       "    .dataframe tbody tr th:only-of-type {\n",
       "        vertical-align: middle;\n",
       "    }\n",
       "\n",
       "    .dataframe tbody tr th {\n",
       "        vertical-align: top;\n",
       "    }\n",
       "\n",
       "    .dataframe thead th {\n",
       "        text-align: right;\n",
       "    }\n",
       "</style>\n",
       "<table border=\"1\" class=\"dataframe\">\n",
       "  <thead>\n",
       "    <tr style=\"text-align: right;\">\n",
       "      <th></th>\n",
       "      <th>longitude</th>\n",
       "      <th>latitude</th>\n",
       "      <th>housing_median_age</th>\n",
       "      <th>total_rooms</th>\n",
       "      <th>total_bedrooms</th>\n",
       "      <th>population</th>\n",
       "      <th>households</th>\n",
       "      <th>median_income</th>\n",
       "      <th>median_house_value</th>\n",
       "    </tr>\n",
       "  </thead>\n",
       "  <tbody>\n",
       "    <tr>\n",
       "      <th>count</th>\n",
       "      <td>18379.000000</td>\n",
       "      <td>18379.000000</td>\n",
       "      <td>18379.000000</td>\n",
       "      <td>18379.000000</td>\n",
       "      <td>18379.000000</td>\n",
       "      <td>18379.000000</td>\n",
       "      <td>18379.000000</td>\n",
       "      <td>18379.000000</td>\n",
       "      <td>18379.000000</td>\n",
       "    </tr>\n",
       "    <tr>\n",
       "      <th>mean</th>\n",
       "      <td>-119.484954</td>\n",
       "      <td>35.593833</td>\n",
       "      <td>26.969422</td>\n",
       "      <td>2669.597965</td>\n",
       "      <td>548.003972</td>\n",
       "      <td>1469.890690</td>\n",
       "      <td>508.613145</td>\n",
       "      <td>3.693698</td>\n",
       "      <td>189563.469014</td>\n",
       "    </tr>\n",
       "    <tr>\n",
       "      <th>std</th>\n",
       "      <td>1.980713</td>\n",
       "      <td>2.148148</td>\n",
       "      <td>11.433039</td>\n",
       "      <td>2227.810560</td>\n",
       "      <td>429.431372</td>\n",
       "      <td>1163.864204</td>\n",
       "      <td>389.550323</td>\n",
       "      <td>1.569676</td>\n",
       "      <td>95763.629783</td>\n",
       "    </tr>\n",
       "    <tr>\n",
       "      <th>min</th>\n",
       "      <td>-124.300000</td>\n",
       "      <td>32.540000</td>\n",
       "      <td>1.000000</td>\n",
       "      <td>2.000000</td>\n",
       "      <td>2.000000</td>\n",
       "      <td>3.000000</td>\n",
       "      <td>2.000000</td>\n",
       "      <td>0.499900</td>\n",
       "      <td>14999.000000</td>\n",
       "    </tr>\n",
       "    <tr>\n",
       "      <th>25%</th>\n",
       "      <td>-121.550000</td>\n",
       "      <td>33.920000</td>\n",
       "      <td>17.000000</td>\n",
       "      <td>1458.000000</td>\n",
       "      <td>300.000000</td>\n",
       "      <td>811.000000</td>\n",
       "      <td>284.000000</td>\n",
       "      <td>2.537000</td>\n",
       "      <td>115400.000000</td>\n",
       "    </tr>\n",
       "    <tr>\n",
       "      <th>50%</th>\n",
       "      <td>-118.450000</td>\n",
       "      <td>34.240000</td>\n",
       "      <td>27.000000</td>\n",
       "      <td>2142.000000</td>\n",
       "      <td>442.000000</td>\n",
       "      <td>1203.000000</td>\n",
       "      <td>416.000000</td>\n",
       "      <td>3.470500</td>\n",
       "      <td>171200.000000</td>\n",
       "    </tr>\n",
       "    <tr>\n",
       "      <th>75%</th>\n",
       "      <td>-117.970000</td>\n",
       "      <td>37.670000</td>\n",
       "      <td>36.000000</td>\n",
       "      <td>3182.000000</td>\n",
       "      <td>659.000000</td>\n",
       "      <td>1779.000000</td>\n",
       "      <td>614.000000</td>\n",
       "      <td>4.616700</td>\n",
       "      <td>243200.000000</td>\n",
       "    </tr>\n",
       "    <tr>\n",
       "      <th>max</th>\n",
       "      <td>-114.310000</td>\n",
       "      <td>41.950000</td>\n",
       "      <td>51.000000</td>\n",
       "      <td>39320.000000</td>\n",
       "      <td>6445.000000</td>\n",
       "      <td>35682.000000</td>\n",
       "      <td>6082.000000</td>\n",
       "      <td>15.000100</td>\n",
       "      <td>500000.000000</td>\n",
       "    </tr>\n",
       "  </tbody>\n",
       "</table>\n",
       "</div>"
      ],
      "text/plain": [
       "          longitude      latitude  housing_median_age   total_rooms  \\\n",
       "count  18379.000000  18379.000000        18379.000000  18379.000000   \n",
       "mean    -119.484954     35.593833           26.969422   2669.597965   \n",
       "std        1.980713      2.148148           11.433039   2227.810560   \n",
       "min     -124.300000     32.540000            1.000000      2.000000   \n",
       "25%     -121.550000     33.920000           17.000000   1458.000000   \n",
       "50%     -118.450000     34.240000           27.000000   2142.000000   \n",
       "75%     -117.970000     37.670000           36.000000   3182.000000   \n",
       "max     -114.310000     41.950000           51.000000  39320.000000   \n",
       "\n",
       "       total_bedrooms    population    households  median_income  \\\n",
       "count    18379.000000  18379.000000  18379.000000   18379.000000   \n",
       "mean       548.003972   1469.890690    508.613145       3.693698   \n",
       "std        429.431372   1163.864204    389.550323       1.569676   \n",
       "min          2.000000      3.000000      2.000000       0.499900   \n",
       "25%        300.000000    811.000000    284.000000       2.537000   \n",
       "50%        442.000000   1203.000000    416.000000       3.470500   \n",
       "75%        659.000000   1779.000000    614.000000       4.616700   \n",
       "max       6445.000000  35682.000000   6082.000000      15.000100   \n",
       "\n",
       "       median_house_value  \n",
       "count        18379.000000  \n",
       "mean        189563.469014  \n",
       "std          95763.629783  \n",
       "min          14999.000000  \n",
       "25%         115400.000000  \n",
       "50%         171200.000000  \n",
       "75%         243200.000000  \n",
       "max         500000.000000  "
      ]
     },
     "metadata": {
      "tags": []
     },
     "execution_count": 13
    }
   ]
  },
  {
   "metadata": {
    "id": "OoVsJ_ZByAPL",
    "colab_type": "code",
    "colab": {
     "base_uri": "https://localhost:8080/",
     "height": 898
    },
    "outputId": "3af50387-44f4-47ee-be14-3102b0836d23",
    "executionInfo": {
     "status": "ok",
     "timestamp": 1537792105148,
     "user_tz": -60,
     "elapsed": 2630,
     "user": {
      "displayName": "Taha Doğan Güneş",
      "photoUrl": "",
      "userId": "11032505847365814490"
     }
    }
   },
   "cell_type": "code",
   "source": [
    "fltr_housing.hist(bins=50, figsize=(20,15)) # Do you know why we choose 50 bins? Try playing with the number of bins and observe the difference.\n",
    "plt.show()"
   ],
   "execution_count": 14,
   "outputs": [
    {
     "output_type": "display_data",
     "data": {
      "image/png": "[encoded data removed]",
      "text/plain": [
       "<matplotlib.figure.Figure at 0x7fe26b8a4a58>"
      ]
     },
     "metadata": {
      "tags": []
     }
    }
   ]
  },
  {
   "metadata": {
    "id": "iWkFUzh6yAPO",
    "colab_type": "text"
   },
   "cell_type": "markdown",
   "source": [
    "Now, we have cleaned our dataset by removing those datapoints that have missing values and capped values. Do you think this method is appropriate? Will there be any problem after you have applied Machine Learning algorithm?"
   ]
  },
  {
   "metadata": {
    "id": "HV5SgfC7yAPP",
    "colab_type": "text"
   },
   "cell_type": "markdown",
   "source": [
    "## Dealing with categorical attributes\n",
    "\n",
    "Another issue that should not be ignored is the presence of the categorical attribute 'ocean_proximity'. Since most Machine Learning algorithms work on numerical dataset only, we need to transform the categorical attribute to some numerical value that still represent its original meaning."
   ]
  },
  {
   "metadata": {
    "id": "lpdf3ij-yAPP",
    "colab_type": "code",
    "colab": {
     "base_uri": "https://localhost:8080/",
     "height": 244
    },
    "outputId": "adf1025c-3f0c-42fe-cd99-aedf3519546a",
    "executionInfo": {
     "status": "ok",
     "timestamp": 1537792105739,
     "user_tz": -60,
     "elapsed": 534,
     "user": {
      "displayName": "Taha Doğan Güneş",
      "photoUrl": "",
      "userId": "11032505847365814490"
     }
    },
    "pycharm": {
     "is_executing": false
    }
   },
   "cell_type": "code",
   "source": [
    "from sklearn.preprocessing import OneHotEncoder\n",
    "\n",
    "encoded_cat, categories = fltr_housing[\"ocean_proximity\"].factorize() # retrieve the attribute encoded as numbers\n",
    "encoded_cat_arr = OneHotEncoder().fit_transform(encoded_cat.reshape(-1,1)).toarray() # transform sparse matrix to NumPy array\n",
    "enc_fltr_housing = fltr_housing.iloc[:,0:9].copy()\n",
    "for i in range(0, len(categories)):\n",
    "    enc_fltr_housing[categories[i]] = encoded_cat_arr[:,i]\n",
    "enc_fltr_housing.head()"
   ],
   "execution_count": 21,
   "outputs": [
    {
     "name": "stderr",
     "text": [
      "/Users/bernardroper/.conda/envs/ML-labs/lib/python3.7/site-packages/sklearn/preprocessing/_encoders.py:415: FutureWarning: The handling of integer data will change in version 0.22. Currently, the categories are determined based on the range [0, max(values)], while in the future they will be determined based on the unique values.\nIf you want the future behaviour and silence this warning, you can specify \"categories='auto'\".\nIn case you used a LabelEncoder before this OneHotEncoder to convert the categories to integers, then you can now use the OneHotEncoder directly.\n  warnings.warn(msg, FutureWarning)\n"
     ],
     "output_type": "stream"
    },
    {
     "data": {
      "text/plain": "   longitude  latitude  housing_median_age  total_rooms  total_bedrooms  \\\n0    -122.23     37.88                41.0        880.0           129.0   \n1    -122.22     37.86                21.0       7099.0          1106.0   \n2    -122.26     37.84                42.0       2555.0           665.0   \n3    -122.26     37.85                50.0       1120.0           283.0   \n4    -122.26     37.84                50.0       2239.0           455.0   \n\n   population  households  median_income  median_house_value  NEAR BAY  \\\n0       322.0       126.0         8.3252            452600.0       1.0   \n1      2401.0      1138.0         8.3014            358500.0       1.0   \n2      1206.0       595.0         2.0804            226700.0       1.0   \n3       697.0       264.0         2.1250            140000.0       1.0   \n4       990.0       419.0         1.9911            158700.0       1.0   \n\n   <1H OCEAN  INLAND  NEAR OCEAN  ISLAND  \n0        0.0     0.0         0.0     0.0  \n1        0.0     0.0         0.0     0.0  \n2        0.0     0.0         0.0     0.0  \n3        0.0     0.0         0.0     0.0  \n4        0.0     0.0         0.0     0.0  ",
      "text/html": "<div>\n<style scoped>\n    .dataframe tbody tr th:only-of-type {\n        vertical-align: middle;\n    }\n\n    .dataframe tbody tr th {\n        vertical-align: top;\n    }\n\n    .dataframe thead th {\n        text-align: right;\n    }\n</style>\n<table border=\"1\" class=\"dataframe\">\n  <thead>\n    <tr style=\"text-align: right;\">\n      <th></th>\n      <th>longitude</th>\n      <th>latitude</th>\n      <th>housing_median_age</th>\n      <th>total_rooms</th>\n      <th>total_bedrooms</th>\n      <th>population</th>\n      <th>households</th>\n      <th>median_income</th>\n      <th>median_house_value</th>\n      <th>NEAR BAY</th>\n      <th>&lt;1H OCEAN</th>\n      <th>INLAND</th>\n      <th>NEAR OCEAN</th>\n      <th>ISLAND</th>\n    </tr>\n  </thead>\n  <tbody>\n    <tr>\n      <th>0</th>\n      <td>-122.23</td>\n      <td>37.88</td>\n      <td>41.0</td>\n      <td>880.0</td>\n      <td>129.0</td>\n      <td>322.0</td>\n      <td>126.0</td>\n      <td>8.3252</td>\n      <td>452600.0</td>\n      <td>1.0</td>\n      <td>0.0</td>\n      <td>0.0</td>\n      <td>0.0</td>\n      <td>0.0</td>\n    </tr>\n    <tr>\n      <th>1</th>\n      <td>-122.22</td>\n      <td>37.86</td>\n      <td>21.0</td>\n      <td>7099.0</td>\n      <td>1106.0</td>\n      <td>2401.0</td>\n      <td>1138.0</td>\n      <td>8.3014</td>\n      <td>358500.0</td>\n      <td>1.0</td>\n      <td>0.0</td>\n      <td>0.0</td>\n      <td>0.0</td>\n      <td>0.0</td>\n    </tr>\n    <tr>\n      <th>2</th>\n      <td>-122.26</td>\n      <td>37.84</td>\n      <td>42.0</td>\n      <td>2555.0</td>\n      <td>665.0</td>\n      <td>1206.0</td>\n      <td>595.0</td>\n      <td>2.0804</td>\n      <td>226700.0</td>\n      <td>1.0</td>\n      <td>0.0</td>\n      <td>0.0</td>\n      <td>0.0</td>\n      <td>0.0</td>\n    </tr>\n    <tr>\n      <th>3</th>\n      <td>-122.26</td>\n      <td>37.85</td>\n      <td>50.0</td>\n      <td>1120.0</td>\n      <td>283.0</td>\n      <td>697.0</td>\n      <td>264.0</td>\n      <td>2.1250</td>\n      <td>140000.0</td>\n      <td>1.0</td>\n      <td>0.0</td>\n      <td>0.0</td>\n      <td>0.0</td>\n      <td>0.0</td>\n    </tr>\n    <tr>\n      <th>4</th>\n      <td>-122.26</td>\n      <td>37.84</td>\n      <td>50.0</td>\n      <td>2239.0</td>\n      <td>455.0</td>\n      <td>990.0</td>\n      <td>419.0</td>\n      <td>1.9911</td>\n      <td>158700.0</td>\n      <td>1.0</td>\n      <td>0.0</td>\n      <td>0.0</td>\n      <td>0.0</td>\n      <td>0.0</td>\n    </tr>\n  </tbody>\n</table>\n</div>"
     },
     "metadata": {},
     "output_type": "execute_result",
     "execution_count": 21
    }
   ]
  },
  {
   "metadata": {
    "id": "WqOaun0MyAPT",
    "colab_type": "text"
   },
   "cell_type": "markdown",
   "source": [
    "We have just finished transforming each categorical value to a vector of binary values. As an alternative, we could have only a single numerical attribute that maps to the categories; e.g. 1 for 'NEAR BAY', 2 for '<1H OCEAN', etc. Compared to having a vector of binary values, what are the pros&cons of this approach? Will there be any problem later if we use this approach?"
   ]
  },
  {
   "metadata": {
    "id": "5iljMgBpyAPT",
    "colab_type": "text"
   },
   "cell_type": "markdown",
   "source": [
    "## Data partitioning: train set and test set\n",
    "\n",
    "How can we be sure that our Machine Learning algorithm will work in the real world? Since we need to evaluate our algorithm on some datapoints, now it is a good time to set aside a portion of the dataset as a *test set* and the rest as a *training set*. By treating a portion of the dataset as unseen data, you can test how good your Machine Learning algorithm will be likely to perform in the real world."
   ]
  },
  {
   "metadata": {
    "id": "O3-1cjv_yAPU",
    "colab_type": "code",
    "colab": {
     "base_uri": "https://localhost:8080/",
     "height": 35
    },
    "outputId": "9f788ef9-0b34-4ef9-f742-aeaab0dc5864",
    "executionInfo": {
     "status": "ok",
     "timestamp": 1537792106334,
     "user_tz": -60,
     "elapsed": 471,
     "user": {
      "displayName": "Taha Doğan Güneş",
      "photoUrl": "",
      "userId": "11032505847365814490"
     }
    },
    "pycharm": {
     "is_executing": false
    }
   },
   "cell_type": "code",
   "source": [
    "import numpy\n",
    "\n",
    "rnd_indices = numpy.random.permutation(len(enc_fltr_housing)) # Generate a random sequence of housing's index\n",
    "test_set_size = int(len(enc_fltr_housing) * 0.2) \n",
    "print(test_set_size, \" datapoints for test set\")"
   ],
   "execution_count": 20,
   "outputs": [
    {
     "name": "stdout",
     "text": [
      "3675  datapoints for test set\n"
     ],
     "output_type": "stream"
    }
   ]
  },
  {
   "metadata": {
    "id": "QpMLELgHyAPX",
    "colab_type": "code",
    "colab": {
     "base_uri": "https://localhost:8080/",
     "height": 54
    },
    "outputId": "69cce116-c17b-45f4-8c55-215ac9df6f87",
    "executionInfo": {
     "status": "ok",
     "timestamp": 1537792106921,
     "user_tz": -60,
     "elapsed": 488,
     "user": {
      "displayName": "Taha Doğan Güneş",
      "photoUrl": "",
      "userId": "11032505847365814490"
     }
    },
    "pycharm": {
     "is_executing": false
    }
   },
   "cell_type": "code",
   "source": [
    "test_indices = rnd_indices[:test_set_size]\n",
    "train_indices = rnd_indices[test_set_size:]\n",
    "print(test_indices, \" \", len(test_indices))\n",
    "print(train_indices, \" \", len(train_indices))"
   ],
   "execution_count": 23,
   "outputs": [
    {
     "name": "stdout",
     "text": [
      "[ 7863  3153 10220 ...  5765 14105 11085]   3675\n[16095 17703  3017 ...   563 13995 11655]   14704\n"
     ],
     "output_type": "stream"
    }
   ]
  },
  {
   "metadata": {
    "id": "kwEKlyAIyAPZ",
    "colab_type": "code",
    "colab": {
     "base_uri": "https://localhost:8080/",
     "height": 244
    },
    "outputId": "51946968-326b-4bbe-9b37-7b1236aad3f4",
    "executionInfo": {
     "status": "ok",
     "timestamp": 1537792107526,
     "user_tz": -60,
     "elapsed": 511,
     "user": {
      "displayName": "Taha Doğan Güneş",
      "photoUrl": "",
      "userId": "11032505847365814490"
     }
    },
    "pycharm": {
     "is_executing": false
    }
   },
   "cell_type": "code",
   "source": [
    "test_set1 = enc_fltr_housing.iloc[test_indices].reset_index(drop=True) # Pick data out of housing according to the test indices\n",
    "test_set1.head()"
   ],
   "execution_count": 24,
   "outputs": [
    {
     "data": {
      "text/plain": "   longitude  latitude  housing_median_age  total_rooms  total_bedrooms  \\\n0    -118.47     34.00                28.0       1259.0           302.0   \n1    -118.49     34.26                27.0       2722.0           468.0   \n2    -118.11     33.75                15.0       2569.0           812.0   \n3    -118.25     33.98                47.0        617.0           162.0   \n4    -117.99     33.77                15.0       2081.0           531.0   \n\n   population  households  median_income  median_house_value  NEAR BAY  \\\n0       668.0       280.0         4.2813            384400.0       0.0   \n1      1164.0       419.0         4.6591            239900.0       0.0   \n2       785.0       477.0         5.4011            346400.0       0.0   \n3       754.0       144.0         2.2969            116700.0       0.0   \n4      1617.0       561.0         3.4955            160900.0       0.0   \n\n   <1H OCEAN  INLAND  NEAR OCEAN  ISLAND  \n0        1.0     0.0         0.0     0.0  \n1        1.0     0.0         0.0     0.0  \n2        0.0     0.0         1.0     0.0  \n3        1.0     0.0         0.0     0.0  \n4        1.0     0.0         0.0     0.0  ",
      "text/html": "<div>\n<style scoped>\n    .dataframe tbody tr th:only-of-type {\n        vertical-align: middle;\n    }\n\n    .dataframe tbody tr th {\n        vertical-align: top;\n    }\n\n    .dataframe thead th {\n        text-align: right;\n    }\n</style>\n<table border=\"1\" class=\"dataframe\">\n  <thead>\n    <tr style=\"text-align: right;\">\n      <th></th>\n      <th>longitude</th>\n      <th>latitude</th>\n      <th>housing_median_age</th>\n      <th>total_rooms</th>\n      <th>total_bedrooms</th>\n      <th>population</th>\n      <th>households</th>\n      <th>median_income</th>\n      <th>median_house_value</th>\n      <th>NEAR BAY</th>\n      <th>&lt;1H OCEAN</th>\n      <th>INLAND</th>\n      <th>NEAR OCEAN</th>\n      <th>ISLAND</th>\n    </tr>\n  </thead>\n  <tbody>\n    <tr>\n      <th>0</th>\n      <td>-118.47</td>\n      <td>34.00</td>\n      <td>28.0</td>\n      <td>1259.0</td>\n      <td>302.0</td>\n      <td>668.0</td>\n      <td>280.0</td>\n      <td>4.2813</td>\n      <td>384400.0</td>\n      <td>0.0</td>\n      <td>1.0</td>\n      <td>0.0</td>\n      <td>0.0</td>\n      <td>0.0</td>\n    </tr>\n    <tr>\n      <th>1</th>\n      <td>-118.49</td>\n      <td>34.26</td>\n      <td>27.0</td>\n      <td>2722.0</td>\n      <td>468.0</td>\n      <td>1164.0</td>\n      <td>419.0</td>\n      <td>4.6591</td>\n      <td>239900.0</td>\n      <td>0.0</td>\n      <td>1.0</td>\n      <td>0.0</td>\n      <td>0.0</td>\n      <td>0.0</td>\n    </tr>\n    <tr>\n      <th>2</th>\n      <td>-118.11</td>\n      <td>33.75</td>\n      <td>15.0</td>\n      <td>2569.0</td>\n      <td>812.0</td>\n      <td>785.0</td>\n      <td>477.0</td>\n      <td>5.4011</td>\n      <td>346400.0</td>\n      <td>0.0</td>\n      <td>0.0</td>\n      <td>0.0</td>\n      <td>1.0</td>\n      <td>0.0</td>\n    </tr>\n    <tr>\n      <th>3</th>\n      <td>-118.25</td>\n      <td>33.98</td>\n      <td>47.0</td>\n      <td>617.0</td>\n      <td>162.0</td>\n      <td>754.0</td>\n      <td>144.0</td>\n      <td>2.2969</td>\n      <td>116700.0</td>\n      <td>0.0</td>\n      <td>1.0</td>\n      <td>0.0</td>\n      <td>0.0</td>\n      <td>0.0</td>\n    </tr>\n    <tr>\n      <th>4</th>\n      <td>-117.99</td>\n      <td>33.77</td>\n      <td>15.0</td>\n      <td>2081.0</td>\n      <td>531.0</td>\n      <td>1617.0</td>\n      <td>561.0</td>\n      <td>3.4955</td>\n      <td>160900.0</td>\n      <td>0.0</td>\n      <td>1.0</td>\n      <td>0.0</td>\n      <td>0.0</td>\n      <td>0.0</td>\n    </tr>\n  </tbody>\n</table>\n</div>"
     },
     "metadata": {},
     "output_type": "execute_result",
     "execution_count": 24
    }
   ]
  },
  {
   "metadata": {
    "id": "bbhd4pCXyAPc",
    "colab_type": "code",
    "colab": {
     "base_uri": "https://localhost:8080/",
     "height": 244
    },
    "outputId": "5b94270e-d212-4aaa-ec62-8004c423cecb",
    "executionInfo": {
     "status": "ok",
     "timestamp": 1537792108121,
     "user_tz": -60,
     "elapsed": 494,
     "user": {
      "displayName": "Taha Doğan Güneş",
      "photoUrl": "",
      "userId": "11032505847365814490"
     }
    },
    "pycharm": {
     "is_executing": false
    }
   },
   "cell_type": "code",
   "source": [
    "train_set1 = enc_fltr_housing.iloc[train_indices].reset_index(drop=True)\n",
    "train_set1.head()"
   ],
   "execution_count": 28,
   "outputs": [
    {
     "data": {
      "text/plain": "   longitude  latitude  housing_median_age  total_rooms  total_bedrooms  \\\n0    -122.01     37.36                16.0       1105.0           354.0   \n1    -119.32     36.32                29.0       2409.0           436.0   \n2    -118.30     34.26                42.0       2186.0           423.0   \n3    -119.18     34.23                16.0       4609.0          1220.0   \n4    -117.31     34.44                10.0       1731.0           299.0   \n\n   population  households  median_income  median_house_value  NEAR BAY  \\\n0       499.0       324.0         4.2061            253600.0       0.0   \n1      1142.0       440.0         3.6895             87700.0       0.0   \n2      1145.0       439.0         4.8100            191900.0       0.0   \n3      2147.0      1007.0         3.3750            218800.0       0.0   \n4      1056.0       312.0         3.6007            104000.0       0.0   \n\n   <1H OCEAN  INLAND  NEAR OCEAN  ISLAND  \n0        1.0     0.0         0.0     0.0  \n1        0.0     1.0         0.0     0.0  \n2        1.0     0.0         0.0     0.0  \n3        0.0     0.0         1.0     0.0  \n4        0.0     1.0         0.0     0.0  ",
      "text/html": "<div>\n<style scoped>\n    .dataframe tbody tr th:only-of-type {\n        vertical-align: middle;\n    }\n\n    .dataframe tbody tr th {\n        vertical-align: top;\n    }\n\n    .dataframe thead th {\n        text-align: right;\n    }\n</style>\n<table border=\"1\" class=\"dataframe\">\n  <thead>\n    <tr style=\"text-align: right;\">\n      <th></th>\n      <th>longitude</th>\n      <th>latitude</th>\n      <th>housing_median_age</th>\n      <th>total_rooms</th>\n      <th>total_bedrooms</th>\n      <th>population</th>\n      <th>households</th>\n      <th>median_income</th>\n      <th>median_house_value</th>\n      <th>NEAR BAY</th>\n      <th>&lt;1H OCEAN</th>\n      <th>INLAND</th>\n      <th>NEAR OCEAN</th>\n      <th>ISLAND</th>\n    </tr>\n  </thead>\n  <tbody>\n    <tr>\n      <th>0</th>\n      <td>-122.01</td>\n      <td>37.36</td>\n      <td>16.0</td>\n      <td>1105.0</td>\n      <td>354.0</td>\n      <td>499.0</td>\n      <td>324.0</td>\n      <td>4.2061</td>\n      <td>253600.0</td>\n      <td>0.0</td>\n      <td>1.0</td>\n      <td>0.0</td>\n      <td>0.0</td>\n      <td>0.0</td>\n    </tr>\n    <tr>\n      <th>1</th>\n      <td>-119.32</td>\n      <td>36.32</td>\n      <td>29.0</td>\n      <td>2409.0</td>\n      <td>436.0</td>\n      <td>1142.0</td>\n      <td>440.0</td>\n      <td>3.6895</td>\n      <td>87700.0</td>\n      <td>0.0</td>\n      <td>0.0</td>\n      <td>1.0</td>\n      <td>0.0</td>\n      <td>0.0</td>\n    </tr>\n    <tr>\n      <th>2</th>\n      <td>-118.30</td>\n      <td>34.26</td>\n      <td>42.0</td>\n      <td>2186.0</td>\n      <td>423.0</td>\n      <td>1145.0</td>\n      <td>439.0</td>\n      <td>4.8100</td>\n      <td>191900.0</td>\n      <td>0.0</td>\n      <td>1.0</td>\n      <td>0.0</td>\n      <td>0.0</td>\n      <td>0.0</td>\n    </tr>\n    <tr>\n      <th>3</th>\n      <td>-119.18</td>\n      <td>34.23</td>\n      <td>16.0</td>\n      <td>4609.0</td>\n      <td>1220.0</td>\n      <td>2147.0</td>\n      <td>1007.0</td>\n      <td>3.3750</td>\n      <td>218800.0</td>\n      <td>0.0</td>\n      <td>0.0</td>\n      <td>0.0</td>\n      <td>1.0</td>\n      <td>0.0</td>\n    </tr>\n    <tr>\n      <th>4</th>\n      <td>-117.31</td>\n      <td>34.44</td>\n      <td>10.0</td>\n      <td>1731.0</td>\n      <td>299.0</td>\n      <td>1056.0</td>\n      <td>312.0</td>\n      <td>3.6007</td>\n      <td>104000.0</td>\n      <td>0.0</td>\n      <td>0.0</td>\n      <td>1.0</td>\n      <td>0.0</td>\n      <td>0.0</td>\n    </tr>\n  </tbody>\n</table>\n</div>"
     },
     "metadata": {},
     "output_type": "execute_result",
     "execution_count": 28
    }
   ]
  },
  {
   "metadata": {
    "id": "7593A57uyAPf",
    "colab_type": "text"
   },
   "cell_type": "markdown",
   "source": [
    "Now, we have just randomly put 20% of total datapoints into a test set and the rest into a training set. Do you think 20% is sufficient? Why should not we have less, so that our Machine Learning algorithm can harness more information from the larger training set? Vice versa, should we have a larger test set, so that we are more confident that our Machine Learning algorithm will perform well in the real world?"
   ]
  },
  {
   "metadata": {
    "id": "GbVIFbzIyAPh",
    "colab_type": "text"
   },
   "cell_type": "markdown",
   "source": [
    "## Choose and apply Machine Learning algorithm\n",
    "\n",
    "After so much work on preparing our dataset, we are ready to try our Machine Learning algorithm. Whilst there are many algorithms or *models* for regression task, let us apply the basic approach first: the Linear Regression algorithm. In many cases, a simple model such as the Linear Regression works perfectly fine. If the simple model is sufficient, then there is no need to apply complex algorithms which could require the tuning of many hyperparameters, larger number of datapoints, or longer time to train."
   ]
  },
  {
   "metadata": {
    "id": "MtqJjV53yAPi",
    "colab_type": "code",
    "colab": {
     "base_uri": "https://localhost:8080/",
     "height": 35
    },
    "outputId": "1e93f960-27f0-4d87-d803-e1c93b531535",
    "executionInfo": {
     "status": "ok",
     "timestamp": 1537792108756,
     "user_tz": -60,
     "elapsed": 547,
     "user": {
      "displayName": "Taha Doğan Güneş",
      "photoUrl": "",
      "userId": "11032505847365814490"
     }
    },
    "pycharm": {
     "is_executing": false
    }
   },
   "cell_type": "code",
   "source": [
    "from sklearn.linear_model import LinearRegression\n",
    "from sklearn.metrics import mean_squared_error\n",
    "\n",
    "lnr_regressor1 = LinearRegression()\n",
    "lnr_regressor1.fit(train_set1.iloc[:, [idx for idx in range(len(train_set1.columns)) if idx != 8]], train_set1['median_house_value'])\n",
    "prediction1 = lnr_regressor1.predict(test_set1.iloc[:, [idx for idx in range(len(test_set1.columns)) if idx != 8]])\n",
    "print('RMSE = ', numpy.sqrt(mean_squared_error(test_set1['median_house_value'], prediction1)))"
   ],
   "execution_count": 29,
   "outputs": [
    {
     "name": "stdout",
     "text": [
      "RMSE =  58353.648696503704\n"
     ],
     "output_type": "stream"
    }
   ]
  },
  {
   "metadata": {
    "id": "LE8tfHRMyAPk",
    "colab_type": "text"
   },
   "cell_type": "markdown",
   "source": [
    "We have just trained a linear regression model based on our training set. Then, we have used it to predict the house price on our test set, and we have computed the RMSE to quantify how good our model is. Clearly, the RMSE we have got is very high. That implies that our Machine Learning algorithm is not performing well enough. Will the RMSE change if we redo everything again? What could have gone wrong? What could be done to improve our accuracy?"
   ]
  },
  {
   "metadata": {
    "id": "9tE0OtGDyAPl",
    "colab_type": "text"
   },
   "cell_type": "markdown",
   "source": [
    "## Feature engineering\n",
    "\n",
    "We have just finished our first prototype, but it doesn't seem to work well. As someone say: 'Garbage in, Garbage out'! So, it could be the case that our dataset is not comprised of useful attributes that are going to help our Machine Learning algorithm to learn and predict well. \n",
    "\n",
    "This is quite true if we observe carefully: a value of some attributes such as total_rooms and total_bedrooms represents the whole district/block's! We are predicting the price of one house, but our Machine Learning algorithm is working on district-level data. Obviously, a house with many rooms should be more expensive than a house with a smaller number of rooms. Similar reasoning goes for other attributes as well. Therefore, we should *engineer* our dataset so that it has a larger number of useful attributes or *features*. Let's try this out and see how much our Machine Learning algorithm will improve."
   ]
  },
  {
   "metadata": {
    "id": "7NU3x12zyAPl",
    "colab_type": "code",
    "colab": {
     "base_uri": "https://localhost:8080/",
     "height": 244
    },
    "outputId": "5cbf9332-f68d-4903-baaf-0095ef9eaedf",
    "executionInfo": {
     "status": "ok",
     "timestamp": 1537792109368,
     "user_tz": -60,
     "elapsed": 501,
     "user": {
      "displayName": "Taha Doğan Güneş",
      "photoUrl": "",
      "userId": "11032505847365814490"
     }
    },
    "pycharm": {
     "is_executing": false
    }
   },
   "cell_type": "code",
   "source": [
    "train_set2 = train_set1.copy()\n",
    "train_set2['room_per_house'] = train_set2['total_rooms']/train_set2['households']\n",
    "train_set2['bedroom_per_room'] = train_set2['total_bedrooms']/train_set2['total_rooms']\n",
    "train_set2['pop_per_house'] = train_set2['population']/train_set2['households']\n",
    "train_set2.head()"
   ],
   "execution_count": 30,
   "outputs": [
    {
     "data": {
      "text/plain": "   longitude  latitude  housing_median_age  total_rooms  total_bedrooms  \\\n0    -122.01     37.36                16.0       1105.0           354.0   \n1    -119.32     36.32                29.0       2409.0           436.0   \n2    -118.30     34.26                42.0       2186.0           423.0   \n3    -119.18     34.23                16.0       4609.0          1220.0   \n4    -117.31     34.44                10.0       1731.0           299.0   \n\n   population  households  median_income  median_house_value  NEAR BAY  \\\n0       499.0       324.0         4.2061            253600.0       0.0   \n1      1142.0       440.0         3.6895             87700.0       0.0   \n2      1145.0       439.0         4.8100            191900.0       0.0   \n3      2147.0      1007.0         3.3750            218800.0       0.0   \n4      1056.0       312.0         3.6007            104000.0       0.0   \n\n   <1H OCEAN  INLAND  NEAR OCEAN  ISLAND  room_per_house  bedroom_per_room  \\\n0        1.0     0.0         0.0     0.0        3.410494          0.320362   \n1        0.0     1.0         0.0     0.0        5.475000          0.180988   \n2        1.0     0.0         0.0     0.0        4.979499          0.193504   \n3        0.0     0.0         1.0     0.0        4.576961          0.264700   \n4        0.0     1.0         0.0     0.0        5.548077          0.172733   \n\n   pop_per_house  \n0       1.540123  \n1       2.595455  \n2       2.608200  \n3       2.132075  \n4       3.384615  ",
      "text/html": "<div>\n<style scoped>\n    .dataframe tbody tr th:only-of-type {\n        vertical-align: middle;\n    }\n\n    .dataframe tbody tr th {\n        vertical-align: top;\n    }\n\n    .dataframe thead th {\n        text-align: right;\n    }\n</style>\n<table border=\"1\" class=\"dataframe\">\n  <thead>\n    <tr style=\"text-align: right;\">\n      <th></th>\n      <th>longitude</th>\n      <th>latitude</th>\n      <th>housing_median_age</th>\n      <th>total_rooms</th>\n      <th>total_bedrooms</th>\n      <th>population</th>\n      <th>households</th>\n      <th>median_income</th>\n      <th>median_house_value</th>\n      <th>NEAR BAY</th>\n      <th>&lt;1H OCEAN</th>\n      <th>INLAND</th>\n      <th>NEAR OCEAN</th>\n      <th>ISLAND</th>\n      <th>room_per_house</th>\n      <th>bedroom_per_room</th>\n      <th>pop_per_house</th>\n    </tr>\n  </thead>\n  <tbody>\n    <tr>\n      <th>0</th>\n      <td>-122.01</td>\n      <td>37.36</td>\n      <td>16.0</td>\n      <td>1105.0</td>\n      <td>354.0</td>\n      <td>499.0</td>\n      <td>324.0</td>\n      <td>4.2061</td>\n      <td>253600.0</td>\n      <td>0.0</td>\n      <td>1.0</td>\n      <td>0.0</td>\n      <td>0.0</td>\n      <td>0.0</td>\n      <td>3.410494</td>\n      <td>0.320362</td>\n      <td>1.540123</td>\n    </tr>\n    <tr>\n      <th>1</th>\n      <td>-119.32</td>\n      <td>36.32</td>\n      <td>29.0</td>\n      <td>2409.0</td>\n      <td>436.0</td>\n      <td>1142.0</td>\n      <td>440.0</td>\n      <td>3.6895</td>\n      <td>87700.0</td>\n      <td>0.0</td>\n      <td>0.0</td>\n      <td>1.0</td>\n      <td>0.0</td>\n      <td>0.0</td>\n      <td>5.475000</td>\n      <td>0.180988</td>\n      <td>2.595455</td>\n    </tr>\n    <tr>\n      <th>2</th>\n      <td>-118.30</td>\n      <td>34.26</td>\n      <td>42.0</td>\n      <td>2186.0</td>\n      <td>423.0</td>\n      <td>1145.0</td>\n      <td>439.0</td>\n      <td>4.8100</td>\n      <td>191900.0</td>\n      <td>0.0</td>\n      <td>1.0</td>\n      <td>0.0</td>\n      <td>0.0</td>\n      <td>0.0</td>\n      <td>4.979499</td>\n      <td>0.193504</td>\n      <td>2.608200</td>\n    </tr>\n    <tr>\n      <th>3</th>\n      <td>-119.18</td>\n      <td>34.23</td>\n      <td>16.0</td>\n      <td>4609.0</td>\n      <td>1220.0</td>\n      <td>2147.0</td>\n      <td>1007.0</td>\n      <td>3.3750</td>\n      <td>218800.0</td>\n      <td>0.0</td>\n      <td>0.0</td>\n      <td>0.0</td>\n      <td>1.0</td>\n      <td>0.0</td>\n      <td>4.576961</td>\n      <td>0.264700</td>\n      <td>2.132075</td>\n    </tr>\n    <tr>\n      <th>4</th>\n      <td>-117.31</td>\n      <td>34.44</td>\n      <td>10.0</td>\n      <td>1731.0</td>\n      <td>299.0</td>\n      <td>1056.0</td>\n      <td>312.0</td>\n      <td>3.6007</td>\n      <td>104000.0</td>\n      <td>0.0</td>\n      <td>0.0</td>\n      <td>1.0</td>\n      <td>0.0</td>\n      <td>0.0</td>\n      <td>5.548077</td>\n      <td>0.172733</td>\n      <td>3.384615</td>\n    </tr>\n  </tbody>\n</table>\n</div>"
     },
     "metadata": {},
     "output_type": "execute_result",
     "execution_count": 30
    }
   ]
  },
  {
   "metadata": {
    "id": "MfISVHRLyAPn",
    "colab_type": "code",
    "colab": {
     "base_uri": "https://localhost:8080/",
     "height": 244
    },
    "outputId": "428cce84-7c1b-461e-d04c-c602381acdec",
    "executionInfo": {
     "status": "ok",
     "timestamp": 1537792110118,
     "user_tz": -60,
     "elapsed": 575,
     "user": {
      "displayName": "Taha Doğan Güneş",
      "photoUrl": "",
      "userId": "11032505847365814490"
     }
    },
    "pycharm": {
     "is_executing": false
    }
   },
   "cell_type": "code",
   "source": [
    "test_set2 = train_set1.copy()\n",
    "test_set2['room_per_house'] = test_set2['total_rooms']/test_set2['households']\n",
    "test_set2['bedroom_per_room'] = test_set2['total_bedrooms']/test_set2['total_rooms']\n",
    "test_set2['pop_per_house'] = test_set2['population']/test_set2['households']\n",
    "test_set2.head()"
   ],
   "execution_count": 32,
   "outputs": [
    {
     "data": {
      "text/plain": "   longitude  latitude  housing_median_age  total_rooms  total_bedrooms  \\\n0    -122.01     37.36                16.0       1105.0           354.0   \n1    -119.32     36.32                29.0       2409.0           436.0   \n2    -118.30     34.26                42.0       2186.0           423.0   \n3    -119.18     34.23                16.0       4609.0          1220.0   \n4    -117.31     34.44                10.0       1731.0           299.0   \n\n   population  households  median_income  median_house_value  NEAR BAY  \\\n0       499.0       324.0         4.2061            253600.0       0.0   \n1      1142.0       440.0         3.6895             87700.0       0.0   \n2      1145.0       439.0         4.8100            191900.0       0.0   \n3      2147.0      1007.0         3.3750            218800.0       0.0   \n4      1056.0       312.0         3.6007            104000.0       0.0   \n\n   <1H OCEAN  INLAND  NEAR OCEAN  ISLAND  room_per_house  bedroom_per_room  \\\n0        1.0     0.0         0.0     0.0        3.410494          0.320362   \n1        0.0     1.0         0.0     0.0        5.475000          0.180988   \n2        1.0     0.0         0.0     0.0        4.979499          0.193504   \n3        0.0     0.0         1.0     0.0        4.576961          0.264700   \n4        0.0     1.0         0.0     0.0        5.548077          0.172733   \n\n   pop_per_house  \n0       1.540123  \n1       2.595455  \n2       2.608200  \n3       2.132075  \n4       3.384615  ",
      "text/html": "<div>\n<style scoped>\n    .dataframe tbody tr th:only-of-type {\n        vertical-align: middle;\n    }\n\n    .dataframe tbody tr th {\n        vertical-align: top;\n    }\n\n    .dataframe thead th {\n        text-align: right;\n    }\n</style>\n<table border=\"1\" class=\"dataframe\">\n  <thead>\n    <tr style=\"text-align: right;\">\n      <th></th>\n      <th>longitude</th>\n      <th>latitude</th>\n      <th>housing_median_age</th>\n      <th>total_rooms</th>\n      <th>total_bedrooms</th>\n      <th>population</th>\n      <th>households</th>\n      <th>median_income</th>\n      <th>median_house_value</th>\n      <th>NEAR BAY</th>\n      <th>&lt;1H OCEAN</th>\n      <th>INLAND</th>\n      <th>NEAR OCEAN</th>\n      <th>ISLAND</th>\n      <th>room_per_house</th>\n      <th>bedroom_per_room</th>\n      <th>pop_per_house</th>\n    </tr>\n  </thead>\n  <tbody>\n    <tr>\n      <th>0</th>\n      <td>-122.01</td>\n      <td>37.36</td>\n      <td>16.0</td>\n      <td>1105.0</td>\n      <td>354.0</td>\n      <td>499.0</td>\n      <td>324.0</td>\n      <td>4.2061</td>\n      <td>253600.0</td>\n      <td>0.0</td>\n      <td>1.0</td>\n      <td>0.0</td>\n      <td>0.0</td>\n      <td>0.0</td>\n      <td>3.410494</td>\n      <td>0.320362</td>\n      <td>1.540123</td>\n    </tr>\n    <tr>\n      <th>1</th>\n      <td>-119.32</td>\n      <td>36.32</td>\n      <td>29.0</td>\n      <td>2409.0</td>\n      <td>436.0</td>\n      <td>1142.0</td>\n      <td>440.0</td>\n      <td>3.6895</td>\n      <td>87700.0</td>\n      <td>0.0</td>\n      <td>0.0</td>\n      <td>1.0</td>\n      <td>0.0</td>\n      <td>0.0</td>\n      <td>5.475000</td>\n      <td>0.180988</td>\n      <td>2.595455</td>\n    </tr>\n    <tr>\n      <th>2</th>\n      <td>-118.30</td>\n      <td>34.26</td>\n      <td>42.0</td>\n      <td>2186.0</td>\n      <td>423.0</td>\n      <td>1145.0</td>\n      <td>439.0</td>\n      <td>4.8100</td>\n      <td>191900.0</td>\n      <td>0.0</td>\n      <td>1.0</td>\n      <td>0.0</td>\n      <td>0.0</td>\n      <td>0.0</td>\n      <td>4.979499</td>\n      <td>0.193504</td>\n      <td>2.608200</td>\n    </tr>\n    <tr>\n      <th>3</th>\n      <td>-119.18</td>\n      <td>34.23</td>\n      <td>16.0</td>\n      <td>4609.0</td>\n      <td>1220.0</td>\n      <td>2147.0</td>\n      <td>1007.0</td>\n      <td>3.3750</td>\n      <td>218800.0</td>\n      <td>0.0</td>\n      <td>0.0</td>\n      <td>0.0</td>\n      <td>1.0</td>\n      <td>0.0</td>\n      <td>4.576961</td>\n      <td>0.264700</td>\n      <td>2.132075</td>\n    </tr>\n    <tr>\n      <th>4</th>\n      <td>-117.31</td>\n      <td>34.44</td>\n      <td>10.0</td>\n      <td>1731.0</td>\n      <td>299.0</td>\n      <td>1056.0</td>\n      <td>312.0</td>\n      <td>3.6007</td>\n      <td>104000.0</td>\n      <td>0.0</td>\n      <td>0.0</td>\n      <td>1.0</td>\n      <td>0.0</td>\n      <td>0.0</td>\n      <td>5.548077</td>\n      <td>0.172733</td>\n      <td>3.384615</td>\n    </tr>\n  </tbody>\n</table>\n</div>"
     },
     "metadata": {},
     "output_type": "execute_result",
     "execution_count": 32
    }
   ]
  },
  {
   "metadata": {
    "id": "7KhjZKpwyAPq",
    "colab_type": "code",
    "colab": {
     "base_uri": "https://localhost:8080/",
     "height": 35
    },
    "outputId": "a81f6944-3ed7-443f-9511-8a073dfa1fc5",
    "executionInfo": {
     "status": "ok",
     "timestamp": 1537792110736,
     "user_tz": -60,
     "elapsed": 523,
     "user": {
      "displayName": "Taha Doğan Güneş",
      "photoUrl": "",
      "userId": "11032505847365814490"
     }
    },
    "pycharm": {
     "is_executing": false
    }
   },
   "cell_type": "code",
   "source": [
    "from sklearn.linear_model import LinearRegression\n",
    "from sklearn.metrics import mean_squared_error\n",
    "\n",
    "\n",
    "lnr_regressor2 = LinearRegression()\n",
    "lnr_regressor2.fit(train_set2.iloc[:, [idx for idx in range(len(train_set2.columns)) if idx != 8]], train_set2['median_house_value'])\n",
    "prediction2 = lnr_regressor2.predict(test_set2.iloc[:, [idx for idx in range(len(test_set2.columns)) if idx != 8]])\n",
    "print('RMSE = ', numpy.sqrt(mean_squared_error(test_set2['median_house_value'], prediction2)))"
   ],
   "execution_count": 33,
   "outputs": [
    {
     "name": "stdout",
     "text": [
      "RMSE =  58286.88287454987\n"
     ],
     "output_type": "stream"
    }
   ]
  },
  {
   "metadata": {
    "id": "dM6NvGJ9yAPs",
    "colab_type": "text"
   },
   "cell_type": "markdown",
   "source": [
    "Whilst the improvement is not that significant, it has shown that *feature engineering* is very useful. There are more techniques than those we have just shown. Could you name some?"
   ]
  },
  {
   "metadata": {
    "id": "oLdMndvsyAPs",
    "colab_type": "text"
   },
   "cell_type": "markdown",
   "source": [
    "## Choose and apply Machine Learning algorithm (again)\n",
    "\n",
    "It is possible that the Linear Regression model is not powerful enough to learn from our dataset. We could try different regression models: say, the Random Forest Regression. With Scikit-Learn, we can try many different algorithms easily."
   ]
  },
  {
   "metadata": {
    "id": "NVF9VZO7yAPt",
    "colab_type": "code",
    "colab": {
     "base_uri": "https://localhost:8080/",
     "height": 35
    },
    "outputId": "715c5181-0bc8-4d96-fd5b-2abb69dbafd0",
    "executionInfo": {
     "status": "ok",
     "timestamp": 1537792112739,
     "user_tz": -60,
     "elapsed": 1806,
     "user": {
      "displayName": "Taha Doğan Güneş",
      "photoUrl": "",
      "userId": "11032505847365814490"
     }
    },
    "pycharm": {
     "is_executing": false
    }
   },
   "cell_type": "code",
   "source": [
    "from sklearn.ensemble import RandomForestRegressor\n",
    "\n",
    "frst_regressor1 = RandomForestRegressor()\n",
    "frst_regressor1.fit(train_set1.iloc[:, [idx for idx in range(len(train_set1.columns)) if idx != 8]], train_set1['median_house_value'])\n",
    "prediction3 = frst_regressor1.predict(test_set1.iloc[:, [idx for idx in range(len(test_set1.columns)) if idx != 8]])\n",
    "print('RMSE = ', numpy.sqrt(mean_squared_error(test_set1['median_house_value'], prediction3)))"
   ],
   "execution_count": 34,
   "outputs": [
    {
     "name": "stderr",
     "text": [
      "/Users/bernardroper/.conda/envs/ML-labs/lib/python3.7/site-packages/sklearn/ensemble/forest.py:245: FutureWarning: The default value of n_estimators will change from 10 in version 0.20 to 100 in 0.22.\n  \"10 in version 0.20 to 100 in 0.22.\", FutureWarning)\n"
     ],
     "output_type": "stream"
    },
    {
     "name": "stdout",
     "text": [
      "RMSE =  46889.20322040728\n"
     ],
     "output_type": "stream"
    }
   ]
  },
  {
   "metadata": {
    "id": "zQy7BD_vyAPw",
    "colab_type": "text"
   },
   "cell_type": "markdown",
   "source": [
    "With the Forest Regression model, we have achieved a good improvement on the non-engineered dataset. Now, we could also try it on the engineered dataset."
   ]
  },
  {
   "metadata": {
    "id": "KGvh15wQyAPw",
    "colab_type": "code",
    "colab": {
     "base_uri": "https://localhost:8080/",
     "height": 35
    },
    "outputId": "0a1afc76-a836-4695-da2f-c29a49576bfd",
    "executionInfo": {
     "status": "ok",
     "timestamp": 1537792114955,
     "user_tz": -60,
     "elapsed": 2188,
     "user": {
      "displayName": "Taha Doğan Güneş",
      "photoUrl": "",
      "userId": "11032505847365814490"
     }
    },
    "pycharm": {
     "is_executing": false
    }
   },
   "cell_type": "code",
   "source": [
    "from sklearn.ensemble import RandomForestRegressor\n",
    "\n",
    "frst_regressor2 = RandomForestRegressor()\n",
    "frst_regressor2.fit(train_set2.iloc[:, [idx for idx in range(len(train_set2.columns)) if idx != 8]], train_set2['median_house_value'])\n",
    "prediction4 = frst_regressor2.predict(test_set2.iloc[:, [idx for idx in range(len(test_set2.columns)) if idx != 8]])\n",
    "print('RMSE = ', numpy.sqrt(mean_squared_error(test_set2['median_house_value'], prediction4)))"
   ],
   "execution_count": 35,
   "outputs": [
    {
     "name": "stderr",
     "text": [
      "/Users/bernardroper/.conda/envs/ML-labs/lib/python3.7/site-packages/sklearn/ensemble/forest.py:245: FutureWarning: The default value of n_estimators will change from 10 in version 0.20 to 100 in 0.22.\n  \"10 in version 0.20 to 100 in 0.22.\", FutureWarning)\n"
     ],
     "output_type": "stream"
    },
    {
     "name": "stdout",
     "text": [
      "RMSE =  19707.405306060136\n"
     ],
     "output_type": "stream"
    }
   ]
  },
  {
   "metadata": {
    "id": "jsRHA7LnyAP0",
    "colab_type": "text"
   },
   "cell_type": "markdown",
   "source": [
    "Bravo! We have just significantly reduced the RMSE by using the Random Forest model on the engineered features. This has clearly demonstrated the power of using multiple techniques to do a Machine Learning project. What can we do more? Is it possible to tune the parameter of a Machine Learning algorithm to achieve better accuracy?"
   ]
  },
  {
   "metadata": {
    "id": "kfjYU7CRyAP1",
    "colab_type": "text"
   },
   "cell_type": "markdown",
   "source": [
    "## Recap\n",
    "\n",
    "We have just demonstrated how to carry out a Machine Learning project on a given dataset. Specifically, a multivariate regression task in a supervised model-based batch learning framework. We have shown that a dataset needs to be properly inspected and some data cleaning techniques performed before applying any Machine Learning algorithm. Significant improvement can be obtained by not only changing the Machine Learning algorithm but combining it with feature engineering. There are a number of things that we have not covered here, but you can learn them by trying our exercises below."
   ]
  },
  {
   "metadata": {
    "id": "apRVdL1UyAP2",
    "colab_type": "text"
   },
   "cell_type": "markdown",
   "source": [
    "## Exercises\n",
    "\n",
    "1. What is the difference between RMSE and MAE? What can be implied if RMSE is significantly higher than MAE? Is it true for this house prediction problem? (You can try compute the MAE in the cell below.)"
   ]
  },
  {
   "metadata": {
    "id": "pRqJyvDXyAP5",
    "colab_type": "code",
    "colab": {},
    "pycharm": {
     "is_executing": false
    }
   },
   "cell_type": "code",
   "source": [
    "from sklearn.metrics import mean_absolute_error\n",
    "print('MAE = ',mean_absolute_error(test_set2['median_house_value'], prediction4))"
   ],
   "execution_count": 36,
   "outputs": [
    {
     "name": "stdout",
     "text": [
      "MAE =  12582.652353101199\n"
     ],
     "output_type": "stream"
    }
   ]
  },
  {
   "metadata": {
    "id": "GB6aU4AWyAP7",
    "colab_type": "text"
   },
   "cell_type": "markdown",
   "source": [
    "2. Instead of dropping some datapoints that have missing values, we can try and fill them with a median of that attributes. Will the performance measure increase?\n",
    "\n",
    "(Hint: https://pandas.pydata.org/pandas-docs/stable/generated/pandas.DataFrame.fillna.html)"
   ]
  },
  {
   "metadata": {
    "id": "Fy008uUlyAP8",
    "colab_type": "code",
    "colab": {}
   },
   "cell_type": "code",
   "source": [
    ""
   ],
   "execution_count": 0,
   "outputs": []
  },
  {
   "metadata": {
    "id": "quJ6hGfpyAP-",
    "colab_type": "text"
   },
   "cell_type": "markdown",
   "source": [
    "3. What is the consequence of ignoring the datapoints with a capped value in our dataset?"
   ]
  },
  {
   "metadata": {
    "id": "1KUH4z_MyAP_",
    "colab_type": "code",
    "colab": {}
   },
   "cell_type": "code",
   "source": [
    ""
   ],
   "execution_count": 0,
   "outputs": []
  },
  {
   "metadata": {
    "id": "Bo8JgGVKyAQC",
    "colab_type": "text"
   },
   "cell_type": "markdown",
   "source": [
    "4. Instead of encoding a categorical attribute into a number of binary attributes, will our performance measure increase if we encode it into one attribute with each value representing one category? What could be a reason for such improvement?\n",
    "\n",
    "(Hint: https://pandas.pydata.org/pandas-docs/stable/generated/pandas.factorize.html)"
   ]
  },
  {
   "metadata": {
    "id": "docA6JuCyAQD",
    "colab_type": "code",
    "colab": {}
   },
   "cell_type": "code",
   "source": [
    ""
   ],
   "execution_count": 0,
   "outputs": []
  },
  {
   "metadata": {
    "id": "mbTAl-rNyAQF",
    "colab_type": "text"
   },
   "cell_type": "markdown",
   "source": [
    "5. In many dataset including ours, different attributes have different ranges of value. Whilst our Machine Learning algorithm can cope with this issue to certain degree, it is widely known that either standardisation or normalisation should be applied. Try them separately on some attributes in our dataset, and observe any change in the performance measure.\n",
    "\n",
    "(Hint: http://scikit-learn.org/stable/modules/preprocessing.html)"
   ]
  },
  {
   "metadata": {
    "id": "NTiw2C3RyAQF",
    "colab_type": "code",
    "colab": {}
   },
   "cell_type": "code",
   "source": [
    ""
   ],
   "execution_count": 0,
   "outputs": []
  },
  {
   "metadata": {
    "id": "iAZSrTvdyAQG",
    "colab_type": "text"
   },
   "cell_type": "markdown",
   "source": [
    "6. We had randomly partitioned the dataset into the train set and the test set. It might be the case that we were lucky and randomly chose a test set that yielded a very low RMSE. To properly evaluate performance of our Machine Learning algorithm, you should try using all datapoints in your dataset as a test set and make sure that the RMSE is significatly low. This is called 'Cross-Validation.' Try it with our dataset and one Machine Learning model.\n",
    "\n",
    "(Hint: http://scikit-learn.org/stable/modules/cross_validation.html)"
   ]
  },
  {
   "metadata": {
    "id": "fhvTCQh1yAQI",
    "colab_type": "code",
    "colab": {}
   },
   "cell_type": "code",
   "source": [
    ""
   ],
   "execution_count": 0,
   "outputs": []
  },
  {
   "metadata": {
    "id": "gN6Y-ZY3yAQJ",
    "colab_type": "text"
   },
   "cell_type": "markdown",
   "source": [
    "7. Many Machine Learning algorithms including the Random Forest Regression have a number of parameters to tune. Try tuning our Random Forest Regressor so that it achieves the lowest RMSE.\n",
    "\n",
    "(Hint: http://scikit-learn.org/stable/modules/grid_search.html)"
   ]
  },
  {
   "metadata": {
    "id": "hTY0_46PyAQL",
    "colab_type": "code",
    "colab": {}
   },
   "cell_type": "code",
   "source": [
    ""
   ],
   "execution_count": 0,
   "outputs": []
  },
  {
   "metadata": {
    "id": "1Uo1eaOzyAQO",
    "colab_type": "text"
   },
   "cell_type": "markdown",
   "source": [
    "8. In practice, after training your first prototype, you are likely to acquire new datapoints or update your existing datapoints. How can you utilise them to improve your Machine Learning algorithm?"
   ]
  },
  {
   "metadata": {
    "id": "j-y4DJdPyAQO",
    "colab_type": "code",
    "colab": {}
   },
   "cell_type": "code",
   "source": [
    ""
   ],
   "execution_count": 0,
   "outputs": []
  }
 ]
}